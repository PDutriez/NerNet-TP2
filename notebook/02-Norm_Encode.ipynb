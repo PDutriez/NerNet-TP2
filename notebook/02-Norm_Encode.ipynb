{
 "cells": [
  {
   "cell_type": "markdown",
   "metadata": {},
   "source": [
    "# Redes Neuronales - Trabajo Practico N°2 - Rossman Store Sales\n",
    "\n",
    "## Normalization and Encoding"
   ]
  },
  {
   "cell_type": "code",
   "execution_count": 1,
   "metadata": {},
   "outputs": [],
   "source": [
    "from sys import path\n",
    "from os.path import realpath\n",
    "path.append(realpath(\"../\")) # Makes it works everywhere\n",
    "import pandas as pd\n",
    "import numpy as np\n",
    "from sklearn.preprocessing import LabelEncoder, StandardScaler\n",
    "from sklearn_pandas import DataFrameMapper"
   ]
  },
  {
   "cell_type": "code",
   "execution_count": 2,
   "metadata": {},
   "outputs": [
    {
     "data": {
      "text/plain": [
       "((1017209, 81), (41088, 80))"
      ]
     },
     "execution_count": 2,
     "metadata": {},
     "output_type": "execute_result"
    }
   ],
   "source": [
    "df_train = pd.read_feather('../processed_dataset/all_preprocessed_train.fth')\n",
    "df_test = pd.read_feather('../processed_dataset/all_preprocessed_test.fth')\n",
    "df_train.shape, df_test.shape"
   ]
  },
  {
   "cell_type": "code",
   "execution_count": 3,
   "metadata": {},
   "outputs": [
    {
     "data": {
      "text/plain": [
       "{'Customers', 'Sales'}"
      ]
     },
     "execution_count": 3,
     "metadata": {},
     "output_type": "execute_result"
    }
   ],
   "source": [
    "# Verificación de que se hicieron bien las cosas en testa también\n",
    "set(df_train.columns) - set(df_test.columns)"
   ]
  },
  {
   "cell_type": "markdown",
   "metadata": {},
   "source": [
    "## Categorical vars"
   ]
  },
  {
   "cell_type": "code",
   "execution_count": 4,
   "metadata": {},
   "outputs": [],
   "source": [
    "cat_vars = ['Store', 'DayOfWeek', 'Year', 'Month', 'Day', 'StateHoliday', \n",
    "            'CompetitionMonthsOpen', 'Promo2Weeks', \n",
    "            'StoreType', 'Assortment', 'PromoInterval', \n",
    "            'CompetitionOpenSinceYear', 'Promo2SinceYear', \n",
    "            'State', 'Week', 'Events', 'Promo_fw', 'Promo_bw', \n",
    "            'StateHoliday_bool_fw', 'StateHoliday_bool_bw', 'SchoolHoliday_fw', \n",
    "            'SchoolHoliday_bw']\n"
   ]
  },
  {
   "cell_type": "markdown",
   "metadata": {},
   "source": [
    "## Continuos Vars"
   ]
  },
  {
   "cell_type": "code",
   "execution_count": 5,
   "metadata": {},
   "outputs": [],
   "source": [
    "contin_vars = ['CompetitionDistance', \n",
    "               'Max_TemperatureC', 'Mean_TemperatureC', 'Min_TemperatureC', \n",
    "               'Precipitationmm', 'Max_Humidity', 'Mean_Humidity', 'Min_Humidity', \n",
    "               'Max_Wind_SpeedKm_h', 'Mean_Wind_SpeedKm_h', 'CloudCover', 'trend', \n",
    "               'trend_DE', 'AfterStateHoliday_bool', 'BeforeStateHoliday_bool', \n",
    "               'Promo', 'SchoolHoliday', 'StateHoliday_bool']"
   ]
  },
  {
   "cell_type": "markdown",
   "metadata": {},
   "source": [
    "# Normalización en continuas y LabelEncode en Categoricas"
   ]
  },
  {
   "cell_type": "code",
   "execution_count": 6,
   "metadata": {},
   "outputs": [
    {
     "name": "stdout",
     "output_type": "stream",
     "text": [
      "[('a', 0), ('a', 0), ('a', 0), ('c', 2), ('a', 0), ('a', 0), ('c', 2), ('a', 0), ('c', 2), ('a', 0)]\n",
      "[('Fog', 0), ('Fog', 0), ('Fog', 0), ('Sunny', 20), ('Sunny', 20), ('Sunny', 20), ('Rain', 10), ('Rain', 10), ('Fog', 0), ('Sunny', 20)]\n",
      "[(2015, 2), (2015, 2), (2015, 2), (2015, 2), (2015, 2), (2015, 2), (2015, 2), (2015, 2), (2015, 2), (2015, 2)]\n"
     ]
    }
   ],
   "source": [
    "cat_maps = [(o, LabelEncoder()) for o in cat_vars]\n",
    "contin_maps = [([o], StandardScaler()) for o in contin_vars]\n",
    "\n",
    "mapper_cat = DataFrameMapper(cat_maps)\n",
    "_ = mapper_cat.fit(df_train)\n",
    "\n",
    "# Assortment es la novena posición en cat_maps\n",
    "N = 10\n",
    "print(list(zip(df_train['Assortment'].values[:N], mapper_cat.transform(df_train)[:,9][:N])))\n",
    "print(list(zip(df_train['Events'].values[:N], mapper_cat.transform(df_train)[:,15][:N])))\n",
    "print(list(zip(df_train['Year'].values[:N], mapper_cat.transform(df_train)[:,2][:N])))"
   ]
  },
  {
   "cell_type": "code",
   "execution_count": 7,
   "metadata": {},
   "outputs": [],
   "source": [
    "mapper_cont = DataFrameMapper(contin_maps)\n",
    "_ = mapper_cont.fit(df_train)"
   ]
  },
  {
   "cell_type": "code",
   "execution_count": 8,
   "metadata": {},
   "outputs": [
    {
     "name": "stdout",
     "output_type": "stream",
     "text": [
      "[ 1270.   570. 14130.   620. 29910.   310. 24000.  7520.  2030.  3160.]\n",
      "[-0.51104292 -0.59341201  1.00219483 -0.5875285   2.85902934 -0.62400624\n",
      "  2.16359893  0.22439533 -0.42161363 -0.28864639]\n"
     ]
    }
   ],
   "source": [
    "N = 10\n",
    "print(df_train['CompetitionDistance'].values[:N])\n",
    "print(mapper_cont.transform(df_train)[:, 0][:N])"
   ]
  },
  {
   "cell_type": "code",
   "execution_count": 9,
   "metadata": {},
   "outputs": [],
   "source": [
    "# La hacemos con todas ahora\n",
    "df_train[cat_vars] = mapper_cat.transform(df_train)\n",
    "df_test[cat_vars] = mapper_cat.transform(df_test)\n",
    "df_train[contin_vars] = mapper_cont.transform(df_train)\n",
    "df_test[contin_vars] = mapper_cont.transform(df_test)"
   ]
  },
  {
   "cell_type": "markdown",
   "metadata": {},
   "source": [
    "# Final processing"
   ]
  },
  {
   "cell_type": "code",
   "execution_count": 10,
   "metadata": {},
   "outputs": [
    {
     "data": {
      "text/plain": [
       "(844338, 81)"
      ]
     },
     "execution_count": 10,
     "metadata": {},
     "output_type": "execute_result"
    }
   ],
   "source": [
    "df_sales = df_train[df_train.Sales!=0]\n",
    "df_sales.shape"
   ]
  },
  {
   "cell_type": "code",
   "execution_count": 11,
   "metadata": {},
   "outputs": [],
   "source": [
    "df_test.reset_index(inplace=True)\n",
    "df_sales.reset_index(inplace=True)\n",
    "df_sales.to_feather('../processed_dataset/train_normalized_data.fth')\n",
    "df_test.to_feather('../processed_dataset/test_normalized_data.fth')"
   ]
  },
  {
   "cell_type": "code",
   "execution_count": 12,
   "metadata": {},
   "outputs": [
    {
     "data": {
      "text/plain": [
       "5984"
      ]
     },
     "execution_count": 12,
     "metadata": {},
     "output_type": "execute_result"
    }
   ],
   "source": [
    "(df_test['Open'] == 0).sum()"
   ]
  },
  {
   "cell_type": "code",
   "execution_count": 13,
   "metadata": {},
   "outputs": [
    {
     "data": {
      "text/plain": [
       "0"
      ]
     },
     "execution_count": 13,
     "metadata": {},
     "output_type": "execute_result"
    }
   ],
   "source": [
    "(df_sales['Open'] == 0).sum()"
   ]
  },
  {
   "cell_type": "code",
   "execution_count": 14,
   "metadata": {},
   "outputs": [
    {
     "data": {
      "text/plain": [
       "0"
      ]
     },
     "execution_count": 14,
     "metadata": {},
     "output_type": "execute_result"
    }
   ],
   "source": [
    "(df_train['CompetitionDistance'].isna()).sum()"
   ]
  }
 ],
 "metadata": {
  "kernelspec": {
   "display_name": "Python 3.10.8 64-bit",
   "language": "python",
   "name": "python3"
  },
  "language_info": {
   "codemirror_mode": {
    "name": "ipython",
    "version": 3
   },
   "file_extension": ".py",
   "mimetype": "text/x-python",
   "name": "python",
   "nbconvert_exporter": "python",
   "pygments_lexer": "ipython3",
   "version": "3.10.8"
  },
  "orig_nbformat": 4,
  "vscode": {
   "interpreter": {
    "hash": "2e9a2dbc51607f973d907a8a37a429e79fe4f13f959c934dc2081d8dac3e8f28"
   }
  }
 },
 "nbformat": 4,
 "nbformat_minor": 2
}
